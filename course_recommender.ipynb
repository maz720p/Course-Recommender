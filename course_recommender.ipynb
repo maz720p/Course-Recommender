{
 "cells": [
  {
   "cell_type": "code",
   "execution_count": 4,
   "id": "0f0bfe3c-b8fc-44ae-b807-33554e501800",
   "metadata": {},
   "outputs": [
    {
     "name": "stdout",
     "output_type": "stream",
     "text": [
      "Requirement already satisfied: scikit-learn in c:\\users\\rjfun\\env_scraper\\lib\\site-packages (1.7.1)\n",
      "Requirement already satisfied: numpy>=1.22.0 in c:\\users\\rjfun\\env_scraper\\lib\\site-packages (from scikit-learn) (2.3.1)\n",
      "Requirement already satisfied: scipy>=1.8.0 in c:\\users\\rjfun\\env_scraper\\lib\\site-packages (from scikit-learn) (1.16.0)\n",
      "Requirement already satisfied: joblib>=1.2.0 in c:\\users\\rjfun\\env_scraper\\lib\\site-packages (from scikit-learn) (1.5.1)\n",
      "Requirement already satisfied: threadpoolctl>=3.1.0 in c:\\users\\rjfun\\env_scraper\\lib\\site-packages (from scikit-learn) (3.6.0)\n"
     ]
    },
    {
     "name": "stderr",
     "output_type": "stream",
     "text": [
      "\n",
      "[notice] A new release of pip is available: 24.2 -> 25.1.1\n",
      "[notice] To update, run: C:\\Users\\rjfun\\env_scraper\\Scripts\\python.exe -m pip install --upgrade pip\n"
     ]
    }
   ],
   "source": [
    "!C:\\Users\\rjfun\\env_scraper\\Scripts\\python.exe -m pip install scikit-learn"
   ]
  },
  {
   "cell_type": "code",
   "execution_count": 2,
   "id": "58a82d05-8615-4bcd-adce-f5870fec20b5",
   "metadata": {},
   "outputs": [
    {
     "name": "stdout",
     "output_type": "stream",
     "text": [
      "Index(['course_title', 'provider', 'price', 'description'], dtype='object')\n"
     ]
    },
    {
     "data": {
      "text/html": [
       "<div>\n",
       "<style scoped>\n",
       "    .dataframe tbody tr th:only-of-type {\n",
       "        vertical-align: middle;\n",
       "    }\n",
       "\n",
       "    .dataframe tbody tr th {\n",
       "        vertical-align: top;\n",
       "    }\n",
       "\n",
       "    .dataframe thead th {\n",
       "        text-align: right;\n",
       "    }\n",
       "</style>\n",
       "<table border=\"1\" class=\"dataframe\">\n",
       "  <thead>\n",
       "    <tr style=\"text-align: right;\">\n",
       "      <th></th>\n",
       "      <th>course_title</th>\n",
       "      <th>provider</th>\n",
       "      <th>price</th>\n",
       "      <th>description</th>\n",
       "    </tr>\n",
       "  </thead>\n",
       "  <tbody>\n",
       "    <tr>\n",
       "      <th>0</th>\n",
       "      <td>Machine Learning Foundations: A Case Study App...</td>\n",
       "      <td>Coursera</td>\n",
       "      <td>Free</td>\n",
       "      <td>Hands-on exploration of machine learning appli...</td>\n",
       "    </tr>\n",
       "    <tr>\n",
       "      <th>1</th>\n",
       "      <td>Predictive Modeling and Machine Learning with ...</td>\n",
       "      <td>Coursera</td>\n",
       "      <td>Free</td>\n",
       "      <td>Learn to build, evaluate, and optimize regress...</td>\n",
       "    </tr>\n",
       "    <tr>\n",
       "      <th>2</th>\n",
       "      <td>Machine Learning for Musicians and Artists</td>\n",
       "      <td>Kadenze</td>\n",
       "      <td>Free</td>\n",
       "      <td>Explore machine learning techniques for creati...</td>\n",
       "    </tr>\n",
       "    <tr>\n",
       "      <th>3</th>\n",
       "      <td>Practical Machine Learning</td>\n",
       "      <td>Coursera</td>\n",
       "      <td>Free</td>\n",
       "      <td>Learn essential machine learning concepts and ...</td>\n",
       "    </tr>\n",
       "    <tr>\n",
       "      <th>4</th>\n",
       "      <td>Machine Learning: Regression</td>\n",
       "      <td>Coursera</td>\n",
       "      <td>Free</td>\n",
       "      <td>Explore regression models for predicting conti...</td>\n",
       "    </tr>\n",
       "  </tbody>\n",
       "</table>\n",
       "</div>"
      ],
      "text/plain": [
       "                                        course_title  provider price  \\\n",
       "0  Machine Learning Foundations: A Case Study App...  Coursera  Free   \n",
       "1  Predictive Modeling and Machine Learning with ...  Coursera  Free   \n",
       "2         Machine Learning for Musicians and Artists   Kadenze  Free   \n",
       "3                         Practical Machine Learning  Coursera  Free   \n",
       "4                       Machine Learning: Regression  Coursera  Free   \n",
       "\n",
       "                                         description  \n",
       "0  Hands-on exploration of machine learning appli...  \n",
       "1  Learn to build, evaluate, and optimize regress...  \n",
       "2  Explore machine learning techniques for creati...  \n",
       "3  Learn essential machine learning concepts and ...  \n",
       "4  Explore regression models for predicting conti...  "
      ]
     },
     "execution_count": 2,
     "metadata": {},
     "output_type": "execute_result"
    }
   ],
   "source": [
    "import pandas as pd\n",
    "\n",
    "df = pd.read_csv(\"classcentral_with_description.csv\")\n",
    "print(df.columns)\n",
    "df.head()"
   ]
  },
  {
   "cell_type": "code",
   "execution_count": 4,
   "id": "a957f362-ddfb-4845-a086-74a623ef219e",
   "metadata": {},
   "outputs": [
    {
     "name": "stdout",
     "output_type": "stream",
     "text": [
      "(15, 160)\n"
     ]
    }
   ],
   "source": [
    "from sklearn.feature_extraction.text import TfidfVectorizer\n",
    "\n",
    "# Ganti 'description' jika kolomnya bernama lain\n",
    "tfidf = TfidfVectorizer(stop_words='english')\n",
    "tfidf_matrix = tfidf.fit_transform(df['description'].fillna(''))\n",
    "\n",
    "# Cek bentuk matrix hasilnya\n",
    "print(tfidf_matrix.shape)\n"
   ]
  },
  {
   "cell_type": "code",
   "execution_count": 5,
   "id": "64d01b48-2f23-4e22-9ab1-4d5e16d67ff5",
   "metadata": {},
   "outputs": [
    {
     "name": "stdout",
     "output_type": "stream",
     "text": [
      "['algebra' 'algorithms' 'analysis' 'analyze' 'applications' 'applied'\n",
      " 'apply' 'approaches' 'art' 'audio' 'big' 'boosting' 'build' 'calculus'\n",
      " 'capstone' 'caret' 'case' 'chain' 'chosen' 'class' 'classification'\n",
      " 'clustering' 'collection' 'complete' 'complex' 'concepts' 'construct'\n",
      " 'continuous' 'covering' 'creating' 'cross' 'data' 'datasets' 'decision'\n",
      " 'decisions' 'deep' 'default' 'deploy' 'depth' 'design' 'diagnose' 'dive'\n",
      " 'domain' 'driven' 'efficiency' 'eigenvalues' 'end' 'environments'\n",
      " 'errors' 'essential' 'essentials' 'estimate' 'evaluate' 'evaluation'\n",
      " 'experience' 'exploration' 'explore' 'feature' 'field' 'focus'\n",
      " 'foundational' 'fundamentals' 'gain' 'gestures' 'gradients' 'hands'\n",
      " 'hyperparameter' 'implement' 'implementation' 'implementations' 'improve'\n",
      " 'installations' 'interactive' 'introduction' 'investigating' 'leader'\n",
      " 'learn' 'learning' 'lens' 'leverage' 'libraries' 'linear' 'loan'\n",
      " 'logistic' 'machine' 'make' 'master' 'matlab' 'matrices' 'micromasters'\n",
      " 'mitx' 'ml' 'model' 'modeling' 'models' 'multivariate' 'music' 'networks'\n",
      " 'neural' 'online' 'open' 'optimization' 'optimize' 'package' 'parameters'\n",
      " 'performance' 'popular' 'practical' 'practice' 'predicting' 'prediction'\n",
      " 'predictive' 'prepare' 'process' 'production' 'program' 'project'\n",
      " 'projects' 'python' 'real' 'recommender' 'regression' 'reinforcement'\n",
      " 'rule' 'scale' 'science' 'scikit' 'scipy' 'segmentation' 'selection'\n",
      " 'sensor' 'sentiment' 'series' 'simple' 'skills' 'solutions' 'source'\n",
      " 'spark' 'statistics' 'strategic' 'structure' 'studies' 'supervised'\n",
      " 'systems' 'tasks' 'taylor' 'teach' 'techniques' 'tools' 'trees' 'tune'\n",
      " 'tuning' 'udacity' 'unsupervised' 'using' 'validation' 'values' 'vectors'\n",
      " 'workflows' 'world']\n"
     ]
    }
   ],
   "source": [
    "features = tfidf.get_feature_names_out()\n",
    "print(features)\n"
   ]
  },
  {
   "cell_type": "code",
   "execution_count": 6,
   "id": "be49f771-9aa3-4240-bac7-299e9e9ffcc7",
   "metadata": {},
   "outputs": [
    {
     "name": "stdout",
     "output_type": "stream",
     "text": [
      "applications: 0.2433\n",
      "case: 0.3140\n",
      "classification: 0.2019\n",
      "clustering: 0.2433\n",
      "covering: 0.2205\n",
      "deep: 0.2433\n",
      "exploration: 0.3140\n",
      "hands: 0.2019\n",
      "learning: 0.2171\n",
      "machine: 0.1156\n",
      "practical: 0.2205\n",
      "python: 0.1862\n",
      "recommender: 0.3140\n",
      "regression: 0.1726\n",
      "studies: 0.3140\n",
      "systems: 0.3140\n",
      "using: 0.1606\n"
     ]
    }
   ],
   "source": [
    "import numpy as np\n",
    "\n",
    "first_row = tfidf_matrix[0].toarray()[0]\n",
    "nonzero_idx = np.nonzero(first_row)\n",
    "for idx in nonzero_idx[0]:\n",
    "    print(f\"{features[idx]}: {first_row[idx]:.4f}\")\n"
   ]
  },
  {
   "cell_type": "code",
   "execution_count": 7,
   "id": "8fd7f723-aabc-45e4-a659-7aa0e7dbafcb",
   "metadata": {},
   "outputs": [
    {
     "data": {
      "text/html": [
       "<div>\n",
       "<style scoped>\n",
       "    .dataframe tbody tr th:only-of-type {\n",
       "        vertical-align: middle;\n",
       "    }\n",
       "\n",
       "    .dataframe tbody tr th {\n",
       "        vertical-align: top;\n",
       "    }\n",
       "\n",
       "    .dataframe thead th {\n",
       "        text-align: right;\n",
       "    }\n",
       "</style>\n",
       "<table border=\"1\" class=\"dataframe\">\n",
       "  <thead>\n",
       "    <tr style=\"text-align: right;\">\n",
       "      <th></th>\n",
       "      <th>algebra</th>\n",
       "      <th>algorithms</th>\n",
       "      <th>analysis</th>\n",
       "      <th>analyze</th>\n",
       "      <th>applications</th>\n",
       "      <th>applied</th>\n",
       "      <th>apply</th>\n",
       "      <th>approaches</th>\n",
       "      <th>art</th>\n",
       "      <th>audio</th>\n",
       "      <th>...</th>\n",
       "      <th>tune</th>\n",
       "      <th>tuning</th>\n",
       "      <th>udacity</th>\n",
       "      <th>unsupervised</th>\n",
       "      <th>using</th>\n",
       "      <th>validation</th>\n",
       "      <th>values</th>\n",
       "      <th>vectors</th>\n",
       "      <th>workflows</th>\n",
       "      <th>world</th>\n",
       "    </tr>\n",
       "  </thead>\n",
       "  <tbody>\n",
       "    <tr>\n",
       "      <th>0</th>\n",
       "      <td>0.0</td>\n",
       "      <td>0.000000</td>\n",
       "      <td>0.0</td>\n",
       "      <td>0.000000</td>\n",
       "      <td>0.243288</td>\n",
       "      <td>0.0</td>\n",
       "      <td>0.000000</td>\n",
       "      <td>0.0</td>\n",
       "      <td>0.000000</td>\n",
       "      <td>0.000000</td>\n",
       "      <td>...</td>\n",
       "      <td>0.000000</td>\n",
       "      <td>0.000000</td>\n",
       "      <td>0.0</td>\n",
       "      <td>0.0</td>\n",
       "      <td>0.160612</td>\n",
       "      <td>0.000000</td>\n",
       "      <td>0.000000</td>\n",
       "      <td>0.0</td>\n",
       "      <td>0.000000</td>\n",
       "      <td>0.000000</td>\n",
       "    </tr>\n",
       "    <tr>\n",
       "      <th>1</th>\n",
       "      <td>0.0</td>\n",
       "      <td>0.000000</td>\n",
       "      <td>0.0</td>\n",
       "      <td>0.000000</td>\n",
       "      <td>0.000000</td>\n",
       "      <td>0.0</td>\n",
       "      <td>0.247971</td>\n",
       "      <td>0.0</td>\n",
       "      <td>0.000000</td>\n",
       "      <td>0.000000</td>\n",
       "      <td>...</td>\n",
       "      <td>0.000000</td>\n",
       "      <td>0.247971</td>\n",
       "      <td>0.0</td>\n",
       "      <td>0.0</td>\n",
       "      <td>0.126856</td>\n",
       "      <td>0.000000</td>\n",
       "      <td>0.000000</td>\n",
       "      <td>0.0</td>\n",
       "      <td>0.247971</td>\n",
       "      <td>0.215321</td>\n",
       "    </tr>\n",
       "    <tr>\n",
       "      <th>2</th>\n",
       "      <td>0.0</td>\n",
       "      <td>0.217437</td>\n",
       "      <td>0.0</td>\n",
       "      <td>0.217437</td>\n",
       "      <td>0.000000</td>\n",
       "      <td>0.0</td>\n",
       "      <td>0.000000</td>\n",
       "      <td>0.0</td>\n",
       "      <td>0.280596</td>\n",
       "      <td>0.280596</td>\n",
       "      <td>...</td>\n",
       "      <td>0.000000</td>\n",
       "      <td>0.000000</td>\n",
       "      <td>0.0</td>\n",
       "      <td>0.0</td>\n",
       "      <td>0.143546</td>\n",
       "      <td>0.000000</td>\n",
       "      <td>0.000000</td>\n",
       "      <td>0.0</td>\n",
       "      <td>0.000000</td>\n",
       "      <td>0.000000</td>\n",
       "    </tr>\n",
       "    <tr>\n",
       "      <th>3</th>\n",
       "      <td>0.0</td>\n",
       "      <td>0.234796</td>\n",
       "      <td>0.0</td>\n",
       "      <td>0.000000</td>\n",
       "      <td>0.000000</td>\n",
       "      <td>0.0</td>\n",
       "      <td>0.000000</td>\n",
       "      <td>0.0</td>\n",
       "      <td>0.000000</td>\n",
       "      <td>0.000000</td>\n",
       "      <td>...</td>\n",
       "      <td>0.000000</td>\n",
       "      <td>0.000000</td>\n",
       "      <td>0.0</td>\n",
       "      <td>0.0</td>\n",
       "      <td>0.155005</td>\n",
       "      <td>0.000000</td>\n",
       "      <td>0.000000</td>\n",
       "      <td>0.0</td>\n",
       "      <td>0.000000</td>\n",
       "      <td>0.000000</td>\n",
       "    </tr>\n",
       "    <tr>\n",
       "      <th>4</th>\n",
       "      <td>0.0</td>\n",
       "      <td>0.000000</td>\n",
       "      <td>0.0</td>\n",
       "      <td>0.203664</td>\n",
       "      <td>0.000000</td>\n",
       "      <td>0.0</td>\n",
       "      <td>0.000000</td>\n",
       "      <td>0.0</td>\n",
       "      <td>0.000000</td>\n",
       "      <td>0.000000</td>\n",
       "      <td>...</td>\n",
       "      <td>0.262823</td>\n",
       "      <td>0.000000</td>\n",
       "      <td>0.0</td>\n",
       "      <td>0.0</td>\n",
       "      <td>0.000000</td>\n",
       "      <td>0.262823</td>\n",
       "      <td>0.262823</td>\n",
       "      <td>0.0</td>\n",
       "      <td>0.000000</td>\n",
       "      <td>0.000000</td>\n",
       "    </tr>\n",
       "  </tbody>\n",
       "</table>\n",
       "<p>5 rows × 160 columns</p>\n",
       "</div>"
      ],
      "text/plain": [
       "   algebra  algorithms  analysis   analyze  applications  applied     apply  \\\n",
       "0      0.0    0.000000       0.0  0.000000      0.243288      0.0  0.000000   \n",
       "1      0.0    0.000000       0.0  0.000000      0.000000      0.0  0.247971   \n",
       "2      0.0    0.217437       0.0  0.217437      0.000000      0.0  0.000000   \n",
       "3      0.0    0.234796       0.0  0.000000      0.000000      0.0  0.000000   \n",
       "4      0.0    0.000000       0.0  0.203664      0.000000      0.0  0.000000   \n",
       "\n",
       "   approaches       art     audio  ...      tune    tuning  udacity  \\\n",
       "0         0.0  0.000000  0.000000  ...  0.000000  0.000000      0.0   \n",
       "1         0.0  0.000000  0.000000  ...  0.000000  0.247971      0.0   \n",
       "2         0.0  0.280596  0.280596  ...  0.000000  0.000000      0.0   \n",
       "3         0.0  0.000000  0.000000  ...  0.000000  0.000000      0.0   \n",
       "4         0.0  0.000000  0.000000  ...  0.262823  0.000000      0.0   \n",
       "\n",
       "   unsupervised     using  validation    values  vectors  workflows     world  \n",
       "0           0.0  0.160612    0.000000  0.000000      0.0   0.000000  0.000000  \n",
       "1           0.0  0.126856    0.000000  0.000000      0.0   0.247971  0.215321  \n",
       "2           0.0  0.143546    0.000000  0.000000      0.0   0.000000  0.000000  \n",
       "3           0.0  0.155005    0.000000  0.000000      0.0   0.000000  0.000000  \n",
       "4           0.0  0.000000    0.262823  0.262823      0.0   0.000000  0.000000  \n",
       "\n",
       "[5 rows x 160 columns]"
      ]
     },
     "execution_count": 7,
     "metadata": {},
     "output_type": "execute_result"
    }
   ],
   "source": [
    "tfidf_df = pd.DataFrame(tfidf_matrix.toarray(), columns=features)\n",
    "tfidf_df.head()\n"
   ]
  },
  {
   "cell_type": "code",
   "execution_count": 9,
   "id": "986ce148-71c6-4aef-95fe-2fef3eec779f",
   "metadata": {},
   "outputs": [],
   "source": [
    "from sklearn.metrics.pairwise import cosine_similarity\n",
    "\n",
    "# Hitung cosine similarity antar kursus\n",
    "cosine_sim = cosine_similarity(tfidf_matrix, tfidf_matrix)"
   ]
  },
  {
   "cell_type": "code",
   "execution_count": 30,
   "id": "190b3101-4256-48ed-bebf-ee7da6114a6d",
   "metadata": {},
   "outputs": [],
   "source": [
    "def recommend_courses(title, df, similarity_matrix, top_n=5):\n",
    "    if title not in df['course_title'].values:\n",
    "        return f\"Kursus '{title}' tidak ditemukan.\"\n",
    "    \n",
    "    idx = df[df['course_title'] == title].index[0]\n",
    "    sim_scores = list(enumerate(similarity_matrix[idx]))\n",
    "    sim_scores = sorted(sim_scores, key=lambda x: x[1], reverse=True)\n",
    "    top_indices = [i[0] for i in sim_scores[1:top_n+1]]\n",
    "    \n",
    "    return df.iloc[top_indices][['course_title', 'description']]"
   ]
  },
  {
   "cell_type": "code",
   "execution_count": 31,
   "id": "20997aa6-7054-4649-9863-1e40e96f4eb1",
   "metadata": {},
   "outputs": [
    {
     "name": "stdout",
     "output_type": "stream",
     "text": [
      "Rekomendasi untuk: Machine Learning Foundations: A Case Study Approach\n",
      "\n",
      "                                         course_title  \\\n",
      "13                       Machine Learning with Python   \n",
      "12                 Applied Machine Learning in Python   \n",
      "6    Mathematics for Machine Learning: Linear Algebra   \n",
      "10  Mathematics for Machine Learning: Multivariate...   \n",
      "5   Machine Learning with Python: from Linear Mode...   \n",
      "\n",
      "                                          description  \n",
      "13  Dive into Machine Learning with Python, coveri...  \n",
      "12  Learn applied machine learning techniques usin...  \n",
      "6   Explore linear algebra fundamentals and their ...  \n",
      "10  Explore multivariate calculus essentials for m...  \n",
      "5   An in-depth introduction to the field of machi...  \n"
     ]
    }
   ],
   "source": [
    "sample_course = df['course_title'].iloc[0]\n",
    "print(f\"Rekomendasi untuk: {sample_course}\\n\")\n",
    "rekomendasi = recommend_courses(sample_course, df, cosine_sim, top_n=5)\n",
    "print(rekomendasi)"
   ]
  },
  {
   "cell_type": "code",
   "execution_count": 27,
   "id": "e38cbb6d-2fc7-4227-881b-0f928cce2b86",
   "metadata": {},
   "outputs": [
    {
     "name": "stdout",
     "output_type": "stream",
     "text": [
      "Rekomendasi berdasarkan keyword 'machine learning':\n",
      "\n",
      "                                         course_title  \\\n",
      "5   Machine Learning with Python: from Linear Mode...   \n",
      "0   Machine Learning Foundations: A Case Study App...   \n",
      "13                       Machine Learning with Python   \n",
      "12                 Applied Machine Learning in Python   \n",
      "3                          Practical Machine Learning   \n",
      "\n",
      "                                          description  \n",
      "5   An in-depth introduction to the field of machi...  \n",
      "0   Hands-on exploration of machine learning appli...  \n",
      "13  Dive into Machine Learning with Python, coveri...  \n",
      "12  Learn applied machine learning techniques usin...  \n",
      "3   Learn essential machine learning concepts and ...  \n"
     ]
    }
   ],
   "source": [
    "result = recommend_by_keyword(\"machine learning\", df, tfidf, tfidf_matrix, top_n=5)\n",
    "print(\"Rekomendasi berdasarkan keyword 'machine learning':\\n\")\n",
    "print(result)"
   ]
  },
  {
   "cell_type": "code",
   "execution_count": 24,
   "id": "e3437099-2506-44d9-a00e-d228103989d0",
   "metadata": {},
   "outputs": [],
   "source": [
    "rekomendasi.to_csv(\"rekomendasi_for_machine_learning_foundations.csv\", index=False)"
   ]
  }
 ],
 "metadata": {
  "kernelspec": {
   "display_name": "Python (env_scraper)",
   "language": "python",
   "name": "env_scraper"
  },
  "language_info": {
   "codemirror_mode": {
    "name": "ipython",
    "version": 3
   },
   "file_extension": ".py",
   "mimetype": "text/x-python",
   "name": "python",
   "nbconvert_exporter": "python",
   "pygments_lexer": "ipython3",
   "version": "3.13.0"
  }
 },
 "nbformat": 4,
 "nbformat_minor": 5
}
